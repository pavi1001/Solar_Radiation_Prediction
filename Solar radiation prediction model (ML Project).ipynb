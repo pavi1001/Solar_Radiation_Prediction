{
 "cells": [
  {
   "cell_type": "code",
   "execution_count": 1,
   "id": "0e3c064d",
   "metadata": {},
   "outputs": [],
   "source": [
    "import pandas as pd\n",
    "import numpy as np\n",
    "import matplotlib.pyplot as plt\n",
    "import seaborn as sns\n",
    "import datasist as ds\n",
    "from sklearn.model_selection import train_test_split\n",
    "from sklearn.linear_model import LinearRegression"
   ]
  },
  {
   "cell_type": "code",
   "execution_count": 2,
   "id": "03ad1aea",
   "metadata": {},
   "outputs": [
    {
     "data": {
      "text/html": [
       "<div>\n",
       "<style scoped>\n",
       "    .dataframe tbody tr th:only-of-type {\n",
       "        vertical-align: middle;\n",
       "    }\n",
       "\n",
       "    .dataframe tbody tr th {\n",
       "        vertical-align: top;\n",
       "    }\n",
       "\n",
       "    .dataframe thead th {\n",
       "        text-align: right;\n",
       "    }\n",
       "</style>\n",
       "<table border=\"1\" class=\"dataframe\">\n",
       "  <thead>\n",
       "    <tr style=\"text-align: right;\">\n",
       "      <th></th>\n",
       "      <th>UNIXTime</th>\n",
       "      <th>Data</th>\n",
       "      <th>Time</th>\n",
       "      <th>Radiation</th>\n",
       "      <th>Temperature</th>\n",
       "      <th>Pressure</th>\n",
       "      <th>Humidity</th>\n",
       "      <th>WindDirection(Degrees)</th>\n",
       "      <th>Speed</th>\n",
       "      <th>TimeSunRise</th>\n",
       "      <th>TimeSunSet</th>\n",
       "    </tr>\n",
       "  </thead>\n",
       "  <tbody>\n",
       "    <tr>\n",
       "      <th>0</th>\n",
       "      <td>1475229326</td>\n",
       "      <td>9/29/2016 12:00:00 AM</td>\n",
       "      <td>23:55:26</td>\n",
       "      <td>1.21</td>\n",
       "      <td>48</td>\n",
       "      <td>30.46</td>\n",
       "      <td>59</td>\n",
       "      <td>177.39</td>\n",
       "      <td>5.62</td>\n",
       "      <td>06:13:00</td>\n",
       "      <td>18:13:00</td>\n",
       "    </tr>\n",
       "    <tr>\n",
       "      <th>1</th>\n",
       "      <td>1475229023</td>\n",
       "      <td>9/29/2016 12:00:00 AM</td>\n",
       "      <td>23:50:23</td>\n",
       "      <td>1.21</td>\n",
       "      <td>48</td>\n",
       "      <td>30.46</td>\n",
       "      <td>58</td>\n",
       "      <td>176.78</td>\n",
       "      <td>3.37</td>\n",
       "      <td>06:13:00</td>\n",
       "      <td>18:13:00</td>\n",
       "    </tr>\n",
       "    <tr>\n",
       "      <th>2</th>\n",
       "      <td>1475228726</td>\n",
       "      <td>9/29/2016 12:00:00 AM</td>\n",
       "      <td>23:45:26</td>\n",
       "      <td>1.23</td>\n",
       "      <td>48</td>\n",
       "      <td>30.46</td>\n",
       "      <td>57</td>\n",
       "      <td>158.75</td>\n",
       "      <td>3.37</td>\n",
       "      <td>06:13:00</td>\n",
       "      <td>18:13:00</td>\n",
       "    </tr>\n",
       "    <tr>\n",
       "      <th>3</th>\n",
       "      <td>1475228421</td>\n",
       "      <td>9/29/2016 12:00:00 AM</td>\n",
       "      <td>23:40:21</td>\n",
       "      <td>1.21</td>\n",
       "      <td>48</td>\n",
       "      <td>30.46</td>\n",
       "      <td>60</td>\n",
       "      <td>137.71</td>\n",
       "      <td>3.37</td>\n",
       "      <td>06:13:00</td>\n",
       "      <td>18:13:00</td>\n",
       "    </tr>\n",
       "    <tr>\n",
       "      <th>4</th>\n",
       "      <td>1475228124</td>\n",
       "      <td>9/29/2016 12:00:00 AM</td>\n",
       "      <td>23:35:24</td>\n",
       "      <td>1.17</td>\n",
       "      <td>48</td>\n",
       "      <td>30.46</td>\n",
       "      <td>62</td>\n",
       "      <td>104.95</td>\n",
       "      <td>5.62</td>\n",
       "      <td>06:13:00</td>\n",
       "      <td>18:13:00</td>\n",
       "    </tr>\n",
       "    <tr>\n",
       "      <th>...</th>\n",
       "      <td>...</td>\n",
       "      <td>...</td>\n",
       "      <td>...</td>\n",
       "      <td>...</td>\n",
       "      <td>...</td>\n",
       "      <td>...</td>\n",
       "      <td>...</td>\n",
       "      <td>...</td>\n",
       "      <td>...</td>\n",
       "      <td>...</td>\n",
       "      <td>...</td>\n",
       "    </tr>\n",
       "    <tr>\n",
       "      <th>20554</th>\n",
       "      <td>1479186005</td>\n",
       "      <td>11/14/2016 12:00:00 AM</td>\n",
       "      <td>19:00:05</td>\n",
       "      <td>1.22</td>\n",
       "      <td>50</td>\n",
       "      <td>30.47</td>\n",
       "      <td>101</td>\n",
       "      <td>82.34</td>\n",
       "      <td>3.37</td>\n",
       "      <td>06:31:00</td>\n",
       "      <td>17:43:00</td>\n",
       "    </tr>\n",
       "    <tr>\n",
       "      <th>20555</th>\n",
       "      <td>1479185701</td>\n",
       "      <td>11/14/2016 12:00:00 AM</td>\n",
       "      <td>18:55:01</td>\n",
       "      <td>1.20</td>\n",
       "      <td>50</td>\n",
       "      <td>30.47</td>\n",
       "      <td>101</td>\n",
       "      <td>74.80</td>\n",
       "      <td>10.12</td>\n",
       "      <td>06:31:00</td>\n",
       "      <td>17:43:00</td>\n",
       "    </tr>\n",
       "    <tr>\n",
       "      <th>20556</th>\n",
       "      <td>1479185402</td>\n",
       "      <td>11/14/2016 12:00:00 AM</td>\n",
       "      <td>18:50:02</td>\n",
       "      <td>1.24</td>\n",
       "      <td>50</td>\n",
       "      <td>30.47</td>\n",
       "      <td>101</td>\n",
       "      <td>78.20</td>\n",
       "      <td>3.37</td>\n",
       "      <td>06:31:00</td>\n",
       "      <td>17:43:00</td>\n",
       "    </tr>\n",
       "    <tr>\n",
       "      <th>20557</th>\n",
       "      <td>1479185102</td>\n",
       "      <td>11/14/2016 12:00:00 AM</td>\n",
       "      <td>18:45:02</td>\n",
       "      <td>1.23</td>\n",
       "      <td>51</td>\n",
       "      <td>30.46</td>\n",
       "      <td>101</td>\n",
       "      <td>55.52</td>\n",
       "      <td>3.37</td>\n",
       "      <td>06:31:00</td>\n",
       "      <td>17:43:00</td>\n",
       "    </tr>\n",
       "    <tr>\n",
       "      <th>20558</th>\n",
       "      <td>1479184801</td>\n",
       "      <td>11/14/2016 12:00:00 AM</td>\n",
       "      <td>18:40:01</td>\n",
       "      <td>1.23</td>\n",
       "      <td>51</td>\n",
       "      <td>30.46</td>\n",
       "      <td>101</td>\n",
       "      <td>53.50</td>\n",
       "      <td>2.25</td>\n",
       "      <td>06:31:00</td>\n",
       "      <td>NaN</td>\n",
       "    </tr>\n",
       "  </tbody>\n",
       "</table>\n",
       "<p>20559 rows × 11 columns</p>\n",
       "</div>"
      ],
      "text/plain": [
       "         UNIXTime                    Data      Time  Radiation  Temperature  \\\n",
       "0      1475229326   9/29/2016 12:00:00 AM  23:55:26       1.21           48   \n",
       "1      1475229023   9/29/2016 12:00:00 AM  23:50:23       1.21           48   \n",
       "2      1475228726   9/29/2016 12:00:00 AM  23:45:26       1.23           48   \n",
       "3      1475228421   9/29/2016 12:00:00 AM  23:40:21       1.21           48   \n",
       "4      1475228124   9/29/2016 12:00:00 AM  23:35:24       1.17           48   \n",
       "...           ...                     ...       ...        ...          ...   \n",
       "20554  1479186005  11/14/2016 12:00:00 AM  19:00:05       1.22           50   \n",
       "20555  1479185701  11/14/2016 12:00:00 AM  18:55:01       1.20           50   \n",
       "20556  1479185402  11/14/2016 12:00:00 AM  18:50:02       1.24           50   \n",
       "20557  1479185102  11/14/2016 12:00:00 AM  18:45:02       1.23           51   \n",
       "20558  1479184801  11/14/2016 12:00:00 AM  18:40:01       1.23           51   \n",
       "\n",
       "       Pressure  Humidity  WindDirection(Degrees)  Speed TimeSunRise  \\\n",
       "0         30.46        59                  177.39   5.62    06:13:00   \n",
       "1         30.46        58                  176.78   3.37    06:13:00   \n",
       "2         30.46        57                  158.75   3.37    06:13:00   \n",
       "3         30.46        60                  137.71   3.37    06:13:00   \n",
       "4         30.46        62                  104.95   5.62    06:13:00   \n",
       "...         ...       ...                     ...    ...         ...   \n",
       "20554     30.47       101                   82.34   3.37    06:31:00   \n",
       "20555     30.47       101                   74.80  10.12    06:31:00   \n",
       "20556     30.47       101                   78.20   3.37    06:31:00   \n",
       "20557     30.46       101                   55.52   3.37    06:31:00   \n",
       "20558     30.46       101                   53.50   2.25    06:31:00   \n",
       "\n",
       "      TimeSunSet  \n",
       "0       18:13:00  \n",
       "1       18:13:00  \n",
       "2       18:13:00  \n",
       "3       18:13:00  \n",
       "4       18:13:00  \n",
       "...          ...  \n",
       "20554   17:43:00  \n",
       "20555   17:43:00  \n",
       "20556   17:43:00  \n",
       "20557   17:43:00  \n",
       "20558        NaN  \n",
       "\n",
       "[20559 rows x 11 columns]"
      ]
     },
     "execution_count": 2,
     "metadata": {},
     "output_type": "execute_result"
    }
   ],
   "source": [
    "df= pd.read_csv('SolarPrediction.csv.crdownload')\n",
    "df"
   ]
  },
  {
   "cell_type": "code",
   "execution_count": 3,
   "id": "abebcdbf",
   "metadata": {},
   "outputs": [
    {
     "data": {
      "text/plain": [
       "UNIXTime                  0\n",
       "Data                      0\n",
       "Time                      0\n",
       "Radiation                 0\n",
       "Temperature               0\n",
       "Pressure                  0\n",
       "Humidity                  0\n",
       "WindDirection(Degrees)    0\n",
       "Speed                     0\n",
       "TimeSunRise               0\n",
       "TimeSunSet                1\n",
       "dtype: int64"
      ]
     },
     "execution_count": 3,
     "metadata": {},
     "output_type": "execute_result"
    }
   ],
   "source": [
    "df.isnull().sum()"
   ]
  },
  {
   "cell_type": "code",
   "execution_count": 4,
   "id": "bfccf42e",
   "metadata": {},
   "outputs": [
    {
     "name": "stdout",
     "output_type": "stream",
     "text": [
      "<class 'pandas.core.frame.DataFrame'>\n",
      "RangeIndex: 20559 entries, 0 to 20558\n",
      "Data columns (total 11 columns):\n",
      " #   Column                  Non-Null Count  Dtype  \n",
      "---  ------                  --------------  -----  \n",
      " 0   UNIXTime                20559 non-null  int64  \n",
      " 1   Data                    20559 non-null  object \n",
      " 2   Time                    20559 non-null  object \n",
      " 3   Radiation               20559 non-null  float64\n",
      " 4   Temperature             20559 non-null  int64  \n",
      " 5   Pressure                20559 non-null  float64\n",
      " 6   Humidity                20559 non-null  int64  \n",
      " 7   WindDirection(Degrees)  20559 non-null  float64\n",
      " 8   Speed                   20559 non-null  float64\n",
      " 9   TimeSunRise             20559 non-null  object \n",
      " 10  TimeSunSet              20558 non-null  object \n",
      "dtypes: float64(4), int64(3), object(4)\n",
      "memory usage: 1.7+ MB\n"
     ]
    }
   ],
   "source": [
    "df.info()"
   ]
  },
  {
   "cell_type": "code",
   "execution_count": 5,
   "id": "7dbe2def",
   "metadata": {},
   "outputs": [
    {
     "data": {
      "text/html": [
       "<div>\n",
       "<style scoped>\n",
       "    .dataframe tbody tr th:only-of-type {\n",
       "        vertical-align: middle;\n",
       "    }\n",
       "\n",
       "    .dataframe tbody tr th {\n",
       "        vertical-align: top;\n",
       "    }\n",
       "\n",
       "    .dataframe thead th {\n",
       "        text-align: right;\n",
       "    }\n",
       "</style>\n",
       "<table border=\"1\" class=\"dataframe\">\n",
       "  <thead>\n",
       "    <tr style=\"text-align: right;\">\n",
       "      <th></th>\n",
       "      <th>UNIXTime</th>\n",
       "      <th>Radiation</th>\n",
       "      <th>Temperature</th>\n",
       "      <th>Pressure</th>\n",
       "      <th>Humidity</th>\n",
       "      <th>WindDirection(Degrees)</th>\n",
       "      <th>Speed</th>\n",
       "    </tr>\n",
       "  </thead>\n",
       "  <tbody>\n",
       "    <tr>\n",
       "      <th>count</th>\n",
       "      <td>2.055900e+04</td>\n",
       "      <td>20559.000000</td>\n",
       "      <td>20559.000000</td>\n",
       "      <td>20559.000000</td>\n",
       "      <td>20559.000000</td>\n",
       "      <td>20559.000000</td>\n",
       "      <td>20559.000000</td>\n",
       "    </tr>\n",
       "    <tr>\n",
       "      <th>mean</th>\n",
       "      <td>1.476373e+09</td>\n",
       "      <td>226.011867</td>\n",
       "      <td>52.203950</td>\n",
       "      <td>30.436303</td>\n",
       "      <td>78.103166</td>\n",
       "      <td>129.246025</td>\n",
       "      <td>6.082599</td>\n",
       "    </tr>\n",
       "    <tr>\n",
       "      <th>std</th>\n",
       "      <td>2.245277e+06</td>\n",
       "      <td>331.667594</td>\n",
       "      <td>5.942381</td>\n",
       "      <td>0.032431</td>\n",
       "      <td>24.848384</td>\n",
       "      <td>76.595785</td>\n",
       "      <td>3.080998</td>\n",
       "    </tr>\n",
       "    <tr>\n",
       "      <th>min</th>\n",
       "      <td>1.472724e+09</td>\n",
       "      <td>1.130000</td>\n",
       "      <td>38.000000</td>\n",
       "      <td>30.340000</td>\n",
       "      <td>8.000000</td>\n",
       "      <td>0.090000</td>\n",
       "      <td>0.000000</td>\n",
       "    </tr>\n",
       "    <tr>\n",
       "      <th>25%</th>\n",
       "      <td>1.474530e+09</td>\n",
       "      <td>1.230000</td>\n",
       "      <td>48.000000</td>\n",
       "      <td>30.410000</td>\n",
       "      <td>63.000000</td>\n",
       "      <td>71.690000</td>\n",
       "      <td>3.370000</td>\n",
       "    </tr>\n",
       "    <tr>\n",
       "      <th>50%</th>\n",
       "      <td>1.476194e+09</td>\n",
       "      <td>3.140000</td>\n",
       "      <td>51.000000</td>\n",
       "      <td>30.440000</td>\n",
       "      <td>88.000000</td>\n",
       "      <td>134.480000</td>\n",
       "      <td>5.620000</td>\n",
       "    </tr>\n",
       "    <tr>\n",
       "      <th>75%</th>\n",
       "      <td>1.477748e+09</td>\n",
       "      <td>399.335000</td>\n",
       "      <td>56.000000</td>\n",
       "      <td>30.460000</td>\n",
       "      <td>99.000000</td>\n",
       "      <td>169.470000</td>\n",
       "      <td>7.870000</td>\n",
       "    </tr>\n",
       "    <tr>\n",
       "      <th>max</th>\n",
       "      <td>1.480482e+09</td>\n",
       "      <td>1601.260000</td>\n",
       "      <td>71.000000</td>\n",
       "      <td>30.540000</td>\n",
       "      <td>103.000000</td>\n",
       "      <td>359.950000</td>\n",
       "      <td>27.000000</td>\n",
       "    </tr>\n",
       "  </tbody>\n",
       "</table>\n",
       "</div>"
      ],
      "text/plain": [
       "           UNIXTime     Radiation   Temperature      Pressure      Humidity  \\\n",
       "count  2.055900e+04  20559.000000  20559.000000  20559.000000  20559.000000   \n",
       "mean   1.476373e+09    226.011867     52.203950     30.436303     78.103166   \n",
       "std    2.245277e+06    331.667594      5.942381      0.032431     24.848384   \n",
       "min    1.472724e+09      1.130000     38.000000     30.340000      8.000000   \n",
       "25%    1.474530e+09      1.230000     48.000000     30.410000     63.000000   \n",
       "50%    1.476194e+09      3.140000     51.000000     30.440000     88.000000   \n",
       "75%    1.477748e+09    399.335000     56.000000     30.460000     99.000000   \n",
       "max    1.480482e+09   1601.260000     71.000000     30.540000    103.000000   \n",
       "\n",
       "       WindDirection(Degrees)         Speed  \n",
       "count            20559.000000  20559.000000  \n",
       "mean               129.246025      6.082599  \n",
       "std                 76.595785      3.080998  \n",
       "min                  0.090000      0.000000  \n",
       "25%                 71.690000      3.370000  \n",
       "50%                134.480000      5.620000  \n",
       "75%                169.470000      7.870000  \n",
       "max                359.950000     27.000000  "
      ]
     },
     "execution_count": 5,
     "metadata": {},
     "output_type": "execute_result"
    }
   ],
   "source": [
    "df.describe()"
   ]
  },
  {
   "cell_type": "code",
   "execution_count": 6,
   "id": "da82b654",
   "metadata": {},
   "outputs": [
    {
     "name": "stderr",
     "output_type": "stream",
     "text": [
      "C:\\ProgramData\\Anaconda3\\lib\\site-packages\\seaborn\\distributions.py:2619: FutureWarning: `distplot` is a deprecated function and will be removed in a future version. Please adapt your code to use either `displot` (a figure-level function with similar flexibility) or `histplot` (an axes-level function for histograms).\n",
      "  warnings.warn(msg, FutureWarning)\n"
     ]
    },
    {
     "data": {
      "text/plain": [
       "<AxesSubplot:xlabel='UNIXTime', ylabel='Density'>"
      ]
     },
     "execution_count": 6,
     "metadata": {},
     "output_type": "execute_result"
    },
    {
     "data": {
      "image/png": "[encoded data removed]",
      "text/plain": [
       "<Figure size 640x480 with 1 Axes>"
      ]
     },
     "metadata": {},
     "output_type": "display_data"
    }
   ],
   "source": [
    "sns.distplot(df['UNIXTime'])"
   ]
  },
  {
   "cell_type": "code",
   "execution_count": 7,
   "id": "c0f7fabd",
   "metadata": {},
   "outputs": [
    {
     "data": {
      "text/html": [
       "<div>\n",
       "<style scoped>\n",
       "    .dataframe tbody tr th:only-of-type {\n",
       "        vertical-align: middle;\n",
       "    }\n",
       "\n",
       "    .dataframe tbody tr th {\n",
       "        vertical-align: top;\n",
       "    }\n",
       "\n",
       "    .dataframe thead th {\n",
       "        text-align: right;\n",
       "    }\n",
       "</style>\n",
       "<table border=\"1\" class=\"dataframe\">\n",
       "  <thead>\n",
       "    <tr style=\"text-align: right;\">\n",
       "      <th></th>\n",
       "      <th>UNIXTime</th>\n",
       "      <th>Radiation</th>\n",
       "      <th>Temperature</th>\n",
       "      <th>Pressure</th>\n",
       "      <th>Humidity</th>\n",
       "      <th>WindDirection(Degrees)</th>\n",
       "      <th>Speed</th>\n",
       "    </tr>\n",
       "  </thead>\n",
       "  <tbody>\n",
       "    <tr>\n",
       "      <th>0</th>\n",
       "      <td>1475229326</td>\n",
       "      <td>1.21</td>\n",
       "      <td>48</td>\n",
       "      <td>30.46</td>\n",
       "      <td>59</td>\n",
       "      <td>177.39</td>\n",
       "      <td>5.62</td>\n",
       "    </tr>\n",
       "    <tr>\n",
       "      <th>1</th>\n",
       "      <td>1475229023</td>\n",
       "      <td>1.21</td>\n",
       "      <td>48</td>\n",
       "      <td>30.46</td>\n",
       "      <td>58</td>\n",
       "      <td>176.78</td>\n",
       "      <td>3.37</td>\n",
       "    </tr>\n",
       "    <tr>\n",
       "      <th>2</th>\n",
       "      <td>1475228726</td>\n",
       "      <td>1.23</td>\n",
       "      <td>48</td>\n",
       "      <td>30.46</td>\n",
       "      <td>57</td>\n",
       "      <td>158.75</td>\n",
       "      <td>3.37</td>\n",
       "    </tr>\n",
       "    <tr>\n",
       "      <th>3</th>\n",
       "      <td>1475228421</td>\n",
       "      <td>1.21</td>\n",
       "      <td>48</td>\n",
       "      <td>30.46</td>\n",
       "      <td>60</td>\n",
       "      <td>137.71</td>\n",
       "      <td>3.37</td>\n",
       "    </tr>\n",
       "    <tr>\n",
       "      <th>4</th>\n",
       "      <td>1475228124</td>\n",
       "      <td>1.17</td>\n",
       "      <td>48</td>\n",
       "      <td>30.46</td>\n",
       "      <td>62</td>\n",
       "      <td>104.95</td>\n",
       "      <td>5.62</td>\n",
       "    </tr>\n",
       "    <tr>\n",
       "      <th>...</th>\n",
       "      <td>...</td>\n",
       "      <td>...</td>\n",
       "      <td>...</td>\n",
       "      <td>...</td>\n",
       "      <td>...</td>\n",
       "      <td>...</td>\n",
       "      <td>...</td>\n",
       "    </tr>\n",
       "    <tr>\n",
       "      <th>20554</th>\n",
       "      <td>1479186005</td>\n",
       "      <td>1.22</td>\n",
       "      <td>50</td>\n",
       "      <td>30.47</td>\n",
       "      <td>101</td>\n",
       "      <td>82.34</td>\n",
       "      <td>3.37</td>\n",
       "    </tr>\n",
       "    <tr>\n",
       "      <th>20555</th>\n",
       "      <td>1479185701</td>\n",
       "      <td>1.20</td>\n",
       "      <td>50</td>\n",
       "      <td>30.47</td>\n",
       "      <td>101</td>\n",
       "      <td>74.80</td>\n",
       "      <td>10.12</td>\n",
       "    </tr>\n",
       "    <tr>\n",
       "      <th>20556</th>\n",
       "      <td>1479185402</td>\n",
       "      <td>1.24</td>\n",
       "      <td>50</td>\n",
       "      <td>30.47</td>\n",
       "      <td>101</td>\n",
       "      <td>78.20</td>\n",
       "      <td>3.37</td>\n",
       "    </tr>\n",
       "    <tr>\n",
       "      <th>20557</th>\n",
       "      <td>1479185102</td>\n",
       "      <td>1.23</td>\n",
       "      <td>51</td>\n",
       "      <td>30.46</td>\n",
       "      <td>101</td>\n",
       "      <td>55.52</td>\n",
       "      <td>3.37</td>\n",
       "    </tr>\n",
       "    <tr>\n",
       "      <th>20558</th>\n",
       "      <td>1479184801</td>\n",
       "      <td>1.23</td>\n",
       "      <td>51</td>\n",
       "      <td>30.46</td>\n",
       "      <td>101</td>\n",
       "      <td>53.50</td>\n",
       "      <td>2.25</td>\n",
       "    </tr>\n",
       "  </tbody>\n",
       "</table>\n",
       "<p>20559 rows × 7 columns</p>\n",
       "</div>"
      ],
      "text/plain": [
       "         UNIXTime  Radiation  Temperature  Pressure  Humidity  \\\n",
       "0      1475229326       1.21           48     30.46        59   \n",
       "1      1475229023       1.21           48     30.46        58   \n",
       "2      1475228726       1.23           48     30.46        57   \n",
       "3      1475228421       1.21           48     30.46        60   \n",
       "4      1475228124       1.17           48     30.46        62   \n",
       "...           ...        ...          ...       ...       ...   \n",
       "20554  1479186005       1.22           50     30.47       101   \n",
       "20555  1479185701       1.20           50     30.47       101   \n",
       "20556  1479185402       1.24           50     30.47       101   \n",
       "20557  1479185102       1.23           51     30.46       101   \n",
       "20558  1479184801       1.23           51     30.46       101   \n",
       "\n",
       "       WindDirection(Degrees)  Speed  \n",
       "0                      177.39   5.62  \n",
       "1                      176.78   3.37  \n",
       "2                      158.75   3.37  \n",
       "3                      137.71   3.37  \n",
       "4                      104.95   5.62  \n",
       "...                       ...    ...  \n",
       "20554                   82.34   3.37  \n",
       "20555                   74.80  10.12  \n",
       "20556                   78.20   3.37  \n",
       "20557                   55.52   3.37  \n",
       "20558                   53.50   2.25  \n",
       "\n",
       "[20559 rows x 7 columns]"
      ]
     },
     "execution_count": 7,
     "metadata": {},
     "output_type": "execute_result"
    }
   ],
   "source": [
    "df=df.drop(['Data','Time','TimeSunRise','TimeSunSet'],axis=1)\n",
    "df"
   ]
  },
  {
   "cell_type": "code",
   "execution_count": 8,
   "id": "385481c5",
   "metadata": {},
   "outputs": [
    {
     "data": {
      "text/plain": [
       "<AxesSubplot:>"
      ]
     },
     "execution_count": 8,
     "metadata": {},
     "output_type": "execute_result"
    },
    {
     "data": {
      "image/png": "[encoded data removed]",
      "text/plain": [
       "<Figure size 1000x1000 with 2 Axes>"
      ]
     },
     "metadata": {},
     "output_type": "display_data"
    }
   ],
   "source": [
    "figure= plt.figure(figsize=(10,10))\n",
    "sns.heatmap(df.corr(),annot=True)"
   ]
  },
  {
   "cell_type": "code",
   "execution_count": 9,
   "id": "68c56561",
   "metadata": {},
   "outputs": [
    {
     "data": {
      "text/plain": [
       "Index(['UNIXTime', 'Radiation', 'Temperature', 'Pressure', 'Humidity',\n",
       "       'WindDirection(Degrees)', 'Speed'],\n",
       "      dtype='object')"
      ]
     },
     "execution_count": 9,
     "metadata": {},
     "output_type": "execute_result"
    }
   ],
   "source": [
    "df.columns"
   ]
  },
  {
   "cell_type": "code",
   "execution_count": 10,
   "id": "cca8bc6a",
   "metadata": {},
   "outputs": [],
   "source": [
    "x = df[['UNIXTime','Temperature','Pressure','Humidity','WindDirection(Degrees)','Speed']]\n",
    "y = df['Radiation']\n",
    "\n",
    "# setting up testing and training sets\n",
    "x_train, x_test, y_train, y_test = train_test_split(x, y, test_size=0.3)"
   ]
  },
  {
   "cell_type": "code",
   "execution_count": 11,
   "id": "f9fa72b6",
   "metadata": {},
   "outputs": [
    {
     "data": {
      "text/plain": [
       "RandomForestRegressor()"
      ]
     },
     "execution_count": 11,
     "metadata": {},
     "output_type": "execute_result"
    }
   ],
   "source": [
    "from sklearn.ensemble import RandomForestRegressor\n",
    "Model = RandomForestRegressor()\n",
    "Model.fit(x_train, y_train)"
   ]
  },
  {
   "cell_type": "code",
   "execution_count": 12,
   "id": "4873c535",
   "metadata": {},
   "outputs": [
    {
     "name": "stderr",
     "output_type": "stream",
     "text": [
      "C:\\ProgramData\\Anaconda3\\lib\\site-packages\\sklearn\\base.py:450: UserWarning: X does not have valid feature names, but RandomForestRegressor was fitted with feature names\n",
      "  warnings.warn(\n"
     ]
    },
    {
     "data": {
      "text/plain": [
       "array([1.5922])"
      ]
     },
     "execution_count": 12,
     "metadata": {},
     "output_type": "execute_result"
    }
   ],
   "source": [
    "Model.predict([[1475229326,48,30.46,59,177.39,5.62]])"
   ]
  },
  {
   "cell_type": "code",
   "execution_count": 13,
   "id": "9bc311c9",
   "metadata": {},
   "outputs": [],
   "source": [
    "# pickle--> to save the model to one file\n",
    "import pickle as pk\n",
    "filename=\"s_model.sav\"\n",
    "pk.dump(Model,open(filename,\"wb\"))#to dump the model into the file"
   ]
  },
  {
   "cell_type": "code",
   "execution_count": 14,
   "id": "63e73abe",
   "metadata": {},
   "outputs": [
    {
     "data": {
      "text/plain": [
       "RandomForestRegressor()"
      ]
     },
     "execution_count": 14,
     "metadata": {},
     "output_type": "execute_result"
    }
   ],
   "source": [
    "Model"
   ]
  },
  {
   "cell_type": "code",
   "execution_count": 15,
   "id": "781805fc",
   "metadata": {},
   "outputs": [
    {
     "name": "stdout",
     "output_type": "stream",
     "text": [
      "Defaulting to user installation because normal site-packages is not writeable\n",
      "Requirement already satisfied: gradio in c:\\users\\pavit\\appdata\\roaming\\python\\python39\\site-packages (3.47.1)\n",
      "Requirement already satisfied: altair<6.0,>=4.2.0 in c:\\users\\pavit\\appdata\\roaming\\python\\python39\\site-packages (from gradio) (5.1.1)\n",
      "Requirement already satisfied: pillow<11.0,>=8.0 in c:\\programdata\\anaconda3\\lib\\site-packages (from gradio) (9.2.0)\n",
      "Requirement already satisfied: matplotlib~=3.0 in c:\\programdata\\anaconda3\\lib\\site-packages (from gradio) (3.5.2)\n",
      "Requirement already satisfied: pyyaml<7.0,>=5.0 in c:\\programdata\\anaconda3\\lib\\site-packages (from gradio) (6.0)\n",
      "Requirement already satisfied: python-multipart in c:\\users\\pavit\\appdata\\roaming\\python\\python39\\site-packages (from gradio) (0.0.6)\n",
      "Requirement already satisfied: markupsafe~=2.0 in c:\\programdata\\anaconda3\\lib\\site-packages (from gradio) (2.0.1)\n",
      "Requirement already satisfied: requests~=2.0 in c:\\programdata\\anaconda3\\lib\\site-packages (from gradio) (2.28.1)\n",
      "Requirement already satisfied: ffmpy in c:\\users\\pavit\\appdata\\roaming\\python\\python39\\site-packages (from gradio) (0.3.1)\n",
      "Requirement already satisfied: pydub in c:\\users\\pavit\\appdata\\roaming\\python\\python39\\site-packages (from gradio) (0.25.1)\n",
      "Requirement already satisfied: jinja2<4.0 in c:\\programdata\\anaconda3\\lib\\site-packages (from gradio) (2.11.3)\n",
      "Requirement already satisfied: pandas<3.0,>=1.0 in c:\\programdata\\anaconda3\\lib\\site-packages (from gradio) (1.4.4)\n",
      "Requirement already satisfied: aiofiles<24.0,>=22.0 in c:\\users\\pavit\\appdata\\roaming\\python\\python39\\site-packages (from gradio) (23.2.1)\n",
      "Requirement already satisfied: semantic-version~=2.0 in c:\\users\\pavit\\appdata\\roaming\\python\\python39\\site-packages (from gradio) (2.10.0)\n",
      "Requirement already satisfied: fastapi in c:\\users\\pavit\\appdata\\roaming\\python\\python39\\site-packages (from gradio) (0.103.2)\n",
      "Requirement already satisfied: gradio-client==0.6.0 in c:\\users\\pavit\\appdata\\roaming\\python\\python39\\site-packages (from gradio) (0.6.0)\n",
      "Requirement already satisfied: websockets<12.0,>=10.0 in c:\\users\\pavit\\appdata\\roaming\\python\\python39\\site-packages (from gradio) (11.0.3)\n",
      "Requirement already satisfied: importlib-resources<7.0,>=1.3 in c:\\users\\pavit\\appdata\\roaming\\python\\python39\\site-packages (from gradio) (6.1.0)\n",
      "Requirement already satisfied: httpx in c:\\users\\pavit\\appdata\\roaming\\python\\python39\\site-packages (from gradio) (0.25.0)\n",
      "Requirement already satisfied: numpy~=1.0 in c:\\programdata\\anaconda3\\lib\\site-packages (from gradio) (1.21.5)\n",
      "Requirement already satisfied: typing-extensions~=4.0 in c:\\users\\pavit\\appdata\\roaming\\python\\python39\\site-packages (from gradio) (4.8.0)\n",
      "Requirement already satisfied: uvicorn>=0.14.0 in c:\\users\\pavit\\appdata\\roaming\\python\\python39\\site-packages (from gradio) (0.23.2)\n",
      "Requirement already satisfied: pydantic!=1.8,!=1.8.1,!=2.0.0,!=2.0.1,<3.0.0,>=1.7.4 in c:\\users\\pavit\\appdata\\roaming\\python\\python39\\site-packages (from gradio) (2.4.2)\n",
      "Requirement already satisfied: huggingface-hub>=0.14.0 in c:\\users\\pavit\\appdata\\roaming\\python\\python39\\site-packages (from gradio) (0.17.3)\n",
      "Requirement already satisfied: packaging in c:\\programdata\\anaconda3\\lib\\site-packages (from gradio) (21.3)\n",
      "Requirement already satisfied: orjson~=3.0 in c:\\users\\pavit\\appdata\\roaming\\python\\python39\\site-packages (from gradio) (3.9.7)\n",
      "Requirement already satisfied: fsspec in c:\\programdata\\anaconda3\\lib\\site-packages (from gradio-client==0.6.0->gradio) (2022.7.1)\n",
      "Requirement already satisfied: jsonschema>=3.0 in c:\\programdata\\anaconda3\\lib\\site-packages (from altair<6.0,>=4.2.0->gradio) (4.16.0)\n",
      "Requirement already satisfied: toolz in c:\\programdata\\anaconda3\\lib\\site-packages (from altair<6.0,>=4.2.0->gradio) (0.11.2)\n",
      "Requirement already satisfied: filelock in c:\\programdata\\anaconda3\\lib\\site-packages (from huggingface-hub>=0.14.0->gradio) (3.6.0)\n",
      "Requirement already satisfied: tqdm>=4.42.1 in c:\\programdata\\anaconda3\\lib\\site-packages (from huggingface-hub>=0.14.0->gradio) (4.64.1)\n",
      "Requirement already satisfied: zipp>=3.1.0 in c:\\programdata\\anaconda3\\lib\\site-packages (from importlib-resources<7.0,>=1.3->gradio) (3.8.0)\n",
      "Requirement already satisfied: python-dateutil>=2.7 in c:\\programdata\\anaconda3\\lib\\site-packages (from matplotlib~=3.0->gradio) (2.8.2)\n",
      "Requirement already satisfied: cycler>=0.10 in c:\\programdata\\anaconda3\\lib\\site-packages (from matplotlib~=3.0->gradio) (0.11.0)\n",
      "Requirement already satisfied: pyparsing>=2.2.1 in c:\\programdata\\anaconda3\\lib\\site-packages (from matplotlib~=3.0->gradio) (3.0.9)\n",
      "Requirement already satisfied: kiwisolver>=1.0.1 in c:\\programdata\\anaconda3\\lib\\site-packages (from matplotlib~=3.0->gradio) (1.4.2)\n",
      "Requirement already satisfied: fonttools>=4.22.0 in c:\\programdata\\anaconda3\\lib\\site-packages (from matplotlib~=3.0->gradio) (4.25.0)\n",
      "Requirement already satisfied: pytz>=2020.1 in c:\\programdata\\anaconda3\\lib\\site-packages (from pandas<3.0,>=1.0->gradio) (2022.1)\n",
      "Requirement already satisfied: pydantic-core==2.10.1 in c:\\users\\pavit\\appdata\\roaming\\python\\python39\\site-packages (from pydantic!=1.8,!=1.8.1,!=2.0.0,!=2.0.1,<3.0.0,>=1.7.4->gradio) (2.10.1)\n",
      "Requirement already satisfied: annotated-types>=0.4.0 in c:\\users\\pavit\\appdata\\roaming\\python\\python39\\site-packages (from pydantic!=1.8,!=1.8.1,!=2.0.0,!=2.0.1,<3.0.0,>=1.7.4->gradio) (0.5.0)\n",
      "Requirement already satisfied: urllib3<1.27,>=1.21.1 in c:\\programdata\\anaconda3\\lib\\site-packages (from requests~=2.0->gradio) (1.26.11)\n",
      "Requirement already satisfied: charset-normalizer<3,>=2 in c:\\programdata\\anaconda3\\lib\\site-packages (from requests~=2.0->gradio) (2.0.4)\n",
      "Requirement already satisfied: certifi>=2017.4.17 in c:\\programdata\\anaconda3\\lib\\site-packages (from requests~=2.0->gradio) (2022.9.14)\n",
      "Requirement already satisfied: idna<4,>=2.5 in c:\\programdata\\anaconda3\\lib\\site-packages (from requests~=2.0->gradio) (3.3)\n",
      "Requirement already satisfied: click>=7.0 in c:\\programdata\\anaconda3\\lib\\site-packages (from uvicorn>=0.14.0->gradio) (8.0.4)\n",
      "Requirement already satisfied: h11>=0.8 in c:\\users\\pavit\\appdata\\roaming\\python\\python39\\site-packages (from uvicorn>=0.14.0->gradio) (0.14.0)\n",
      "Requirement already satisfied: starlette<0.28.0,>=0.27.0 in c:\\users\\pavit\\appdata\\roaming\\python\\python39\\site-packages (from fastapi->gradio) (0.27.0)\n",
      "Requirement already satisfied: anyio<4.0.0,>=3.7.1 in c:\\users\\pavit\\appdata\\roaming\\python\\python39\\site-packages (from fastapi->gradio) (3.7.1)\n",
      "Requirement already satisfied: httpcore<0.19.0,>=0.18.0 in c:\\users\\pavit\\appdata\\roaming\\python\\python39\\site-packages (from httpx->gradio) (0.18.0)\n",
      "Requirement already satisfied: sniffio in c:\\programdata\\anaconda3\\lib\\site-packages (from httpx->gradio) (1.2.0)\n",
      "Requirement already satisfied: exceptiongroup in c:\\users\\pavit\\appdata\\roaming\\python\\python39\\site-packages (from anyio<4.0.0,>=3.7.1->fastapi->gradio) (1.1.3)\n",
      "Requirement already satisfied: colorama in c:\\programdata\\anaconda3\\lib\\site-packages (from click>=7.0->uvicorn>=0.14.0->gradio) (0.4.5)\n",
      "Requirement already satisfied: attrs>=17.4.0 in c:\\programdata\\anaconda3\\lib\\site-packages (from jsonschema>=3.0->altair<6.0,>=4.2.0->gradio) (21.4.0)\n",
      "Requirement already satisfied: pyrsistent!=0.17.0,!=0.17.1,!=0.17.2,>=0.14.0 in c:\\programdata\\anaconda3\\lib\\site-packages (from jsonschema>=3.0->altair<6.0,>=4.2.0->gradio) (0.18.0)\n",
      "Requirement already satisfied: six>=1.5 in c:\\programdata\\anaconda3\\lib\\site-packages (from python-dateutil>=2.7->matplotlib~=3.0->gradio) (1.16.0)\n"
     ]
    }
   ],
   "source": [
    "!pip install gradio"
   ]
  },
  {
   "cell_type": "code",
   "execution_count": 16,
   "id": "d7ee6ad4",
   "metadata": {},
   "outputs": [
    {
     "name": "stdout",
     "output_type": "stream",
     "text": [
      "Running on local URL:  http://127.0.0.1:7860\n",
      "\n",
      "Thanks for being a Gradio user! If you have questions or feedback, please join our Discord server and chat with us: https://discord.gg/feTf9x3ZSB\n",
      "\n",
      "Could not create share link. Please check your internet connection or our status page: https://status.gradio.app.\n"
     ]
    },
    {
     "data": {
      "text/html": [
       "<div><iframe src=\"http://127.0.0.1:7860/\" width=\"100%\" height=\"500\" allow=\"autoplay; camera; microphone; clipboard-read; clipboard-write;\" frameborder=\"0\" allowfullscreen></iframe></div>"
      ],
      "text/plain": [
       "<IPython.core.display.HTML object>"
      ]
     },
     "metadata": {},
     "output_type": "display_data"
    },
    {
     "data": {
      "text/plain": []
     },
     "execution_count": 16,
     "metadata": {},
     "output_type": "execute_result"
    },
    {
     "name": "stderr",
     "output_type": "stream",
     "text": [
      "C:\\ProgramData\\Anaconda3\\lib\\site-packages\\sklearn\\base.py:450: UserWarning: X does not have valid feature names, but RandomForestRegressor was fitted with feature names\n",
      "  warnings.warn(\n"
     ]
    }
   ],
   "source": [
    "import gradio as gr\n",
    "def predict(UnixTime,Temperature,Pressure,Humidity,WindDirection,Speed):\n",
    "    features=[UnixTime,Temperature,Pressure,Humidity,WindDirection,Speed]\n",
    "    if len(features) != 6:\n",
    "        return \"Input must contain 7 values.\"\n",
    "    x = np.array(features).reshape(1, -1)  # Reshape to have 1 row and 7 columns\n",
    "    res = Model.predict(x)\n",
    "    return res[0]\n",
    "\n",
    "# Create a Gradio interface with 6 input fields\n",
    "app = gr.Interface(\n",
    "    fn=predict,\n",
    "    inputs=[\n",
    "#         gr.inputs.Slider(0,20000,label=\"UnixTime\"),\n",
    "        gr.Number(label=\"UnixTime\"),\n",
    "        gr.Number(label=\"Temperature (in degrees Celsius)\"),\n",
    "        gr.Number(label=\"Pressure\"),\n",
    "        gr.Number(label=\"Humidity\"),\n",
    "        gr.Number(label=\"WindDirection(Degrees)\"),\n",
    "        gr.Number(label=\"Speed\"),\n",
    "    ],\n",
    "    outputs=gr.Textbox(label=\"Radiation\"),\n",
    "    title=\"Ice Cream Sales Prediction\",\n",
    "    description=\"Enter the inputs to predict ice cream sales.\",\n",
    ")\n",
    "\n",
    "# Launch the Gradio app\n",
    "app.launch(share=True)"
   ]
  },
  {
   "cell_type": "code",
   "execution_count": null,
   "id": "34c97aab",
   "metadata": {},
   "outputs": [],
   "source": []
  },
  {
   "cell_type": "code",
   "execution_count": null,
   "id": "818b891c",
   "metadata": {},
   "outputs": [],
   "source": []
  }
 ],
 "metadata": {
  "kernelspec": {
   "display_name": "Python 3 (ipykernel)",
   "language": "python",
   "name": "python3"
  },
  "language_info": {
   "codemirror_mode": {
    "name": "ipython",
    "version": 3
   },
   "file_extension": ".py",
   "mimetype": "text/x-python",
   "name": "python",
   "nbconvert_exporter": "python",
   "pygments_lexer": "ipython3",
   "version": "3.9.13"
  }
 },
 "nbformat": 4,
 "nbformat_minor": 5
}
